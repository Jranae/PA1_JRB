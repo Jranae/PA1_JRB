{
 "cells": [
  {
   "cell_type": "markdown",
   "id": "0d8cd33b-41c4-4a0b-869c-ce99748e7920",
   "metadata": {},
   "source": [
    "01_Programming_Assignment\n",
    "Jaleah Beason\n",
    "Version 1.0\n",
    "Spring 2024"
   ]
  },
  {
   "cell_type": "markdown",
   "id": "5d37fa08-1b2f-4b30-8757-3fa837f674dc",
   "metadata": {},
   "source": [
    "###Problem 1 - Manipulating Numbers"
   ]
  },
  {
   "cell_type": "code",
   "execution_count": 1,
   "id": "0ae09f36-2aae-48d3-ba16-a796b1d39a49",
   "metadata": {},
   "outputs": [],
   "source": [
    "Prompt = \"Enter a floating point number.\""
   ]
  },
  {
   "cell_type": "code",
   "execution_count": 2,
   "id": "2948456d-fbf4-4282-b7a9-b8a3ee06f4a5",
   "metadata": {
    "tags": []
   },
   "outputs": [
    {
     "name": "stdin",
     "output_type": "stream",
     "text": [
      "Enter a floating point number. 44.3\n"
     ]
    }
   ],
   "source": [
    "num=input(Prompt)"
   ]
  },
  {
   "cell_type": "code",
   "execution_count": 3,
   "id": "cfbfef86-e3d0-4f06-a7be-9c32b9307f01",
   "metadata": {
    "tags": []
   },
   "outputs": [],
   "source": [
    "Prompt = \"Enter an integer.\""
   ]
  },
  {
   "cell_type": "code",
   "execution_count": 4,
   "id": "dbf838f6-8975-49f0-a20d-a9a258e0a504",
   "metadata": {
    "tags": []
   },
   "outputs": [
    {
     "name": "stdin",
     "output_type": "stream",
     "text": [
      "Enter an integer. 16\n"
     ]
    }
   ],
   "source": [
    "num1=input(Prompt)"
   ]
  },
  {
   "cell_type": "code",
   "execution_count": 5,
   "id": "54126cdb-c783-4be4-b474-03f51a2bb519",
   "metadata": {},
   "outputs": [
    {
     "name": "stdout",
     "output_type": "stream",
     "text": [
      "60.3\n"
     ]
    }
   ],
   "source": [
    "Prompt = \"The sum is.\"\n",
    "result = float(num) + int(num1)\n",
    "print(result)"
   ]
  },
  {
   "cell_type": "code",
   "execution_count": 6,
   "id": "b8d819fa-3680-4ad9-8ad7-c417ed9fb62b",
   "metadata": {},
   "outputs": [
    {
     "name": "stdout",
     "output_type": "stream",
     "text": [
      "The difference is 28.300.\n"
     ]
    }
   ],
   "source": [
    "Prompt = \"The difference is.\"\n",
    "result = float(num) - int(num1)\n",
    "print(f'The difference is {result:.3f}.')"
   ]
  },
  {
   "cell_type": "code",
   "execution_count": 7,
   "id": "ca8a3ba9-8dab-403c-9c72-66a84f9699de",
   "metadata": {},
   "outputs": [
    {
     "name": "stdout",
     "output_type": "stream",
     "text": [
      "The product is 708.800.\n"
     ]
    }
   ],
   "source": [
    "Prompt = \"The Product is.\"\n",
    "result = float(num) * int(num1)\n",
    "print(f'The product is {result:.3f}.')"
   ]
  },
  {
   "cell_type": "code",
   "execution_count": 8,
   "id": "5e6899a7-61be-436c-8514-65ddaf02462b",
   "metadata": {
    "tags": []
   },
   "outputs": [
    {
     "name": "stdout",
     "output_type": "stream",
     "text": [
      "The Quotient is 2.769.\n"
     ]
    }
   ],
   "source": [
    "Prompt = \"The Quotient is.\"\n",
    "result = float(num) / int(num1)\n",
    "print(f'The Quotient is {result:.3f}.')"
   ]
  },
  {
   "cell_type": "code",
   "execution_count": 9,
   "id": "13e3bddb-cdb5-4df1-8205-9cba5d1e80bb",
   "metadata": {},
   "outputs": [],
   "source": [
    "Prompt = \"The type result is.\""
   ]
  },
  {
   "cell_type": "code",
   "execution_count": 10,
   "id": "d6baf205-b351-4b88-9f0e-0a227da00e97",
   "metadata": {
    "tags": []
   },
   "outputs": [
    {
     "name": "stdout",
     "output_type": "stream",
     "text": [
      "The type result is <class 'float'>.\n"
     ]
    }
   ],
   "source": [
    "print(f'The type result is {type(result)}.')"
   ]
  },
  {
   "cell_type": "markdown",
   "id": "8ae665fa-f673-435b-ba6c-f3433a21fec5",
   "metadata": {},
   "source": [
    "###Problem 2 - Calculating Target Heart Rate"
   ]
  },
  {
   "cell_type": "code",
   "execution_count": 11,
   "id": "65c80626-ac4e-42b0-93b8-509f82ed97b3",
   "metadata": {},
   "outputs": [],
   "source": [
    "Prompt1 = \"Enter your age.\""
   ]
  },
  {
   "cell_type": "code",
   "execution_count": 12,
   "id": "4a6e81b0-7843-4abc-8fae-4465771c005d",
   "metadata": {
    "tags": []
   },
   "outputs": [
    {
     "name": "stdin",
     "output_type": "stream",
     "text": [
      "Enter your age. 30\n"
     ]
    }
   ],
   "source": [
    "age = input(Prompt1)"
   ]
  },
  {
   "cell_type": "code",
   "execution_count": 18,
   "id": "a9e11dd3-546b-4aed-87b1-b810929f70c7",
   "metadata": {
    "tags": []
   },
   "outputs": [
    {
     "name": "stdout",
     "output_type": "stream",
     "text": [
      "The max heart rate for a 30yr old 190.\n",
      "The lower heart rate limit is 95.0.\n",
      "The upper heart rate limit is 161.5.\n"
     ]
    }
   ],
   "source": [
    "hr_max = 220 - int(age)\n",
    "lower_limit = 0.5 * hr_max\n",
    "upper_limit = 0.85 * hr_max\n",
    "print(f'The max heart rate for a 30yr old is {hr_max}.')\n",
    "print(f'The lower heart rate limit is {lower_limit}.')\n",
    "print(f'The upper heart rate limit is {upper_limit}.')"
   ]
  },
  {
   "cell_type": "code",
   "execution_count": null,
   "id": "3f0d6f09-719e-4e28-b399-6eb3618b41f5",
   "metadata": {},
   "outputs": [],
   "source": []
  }
 ],
 "metadata": {
  "kernelspec": {
   "display_name": "Python 3 (ipykernel)",
   "language": "python",
   "name": "python3"
  },
  "language_info": {
   "codemirror_mode": {
    "name": "ipython",
    "version": 3
   },
   "file_extension": ".py",
   "mimetype": "text/x-python",
   "name": "python",
   "nbconvert_exporter": "python",
   "pygments_lexer": "ipython3",
   "version": "3.11.5"
  }
 },
 "nbformat": 4,
 "nbformat_minor": 5
}
